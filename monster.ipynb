{
 "cells": [
  {
   "cell_type": "code",
   "execution_count": null,
   "id": "8f250b50",
   "metadata": {
    "lines_to_next_cell": 1
   },
   "outputs": [],
   "source": [
    "from character import Character\n",
    "import random"
   ]
  },
  {
   "cell_type": "code",
   "execution_count": null,
   "id": "6f650bda",
   "metadata": {},
   "outputs": [],
   "source": [
    "class Monster(Character):\n",
    "    def __init__(self):\n",
    "        super().__init__()\n",
    "\n",
    "    def monster_attacks(self, hero):\n",
    "        damage = random.randint(1, self.combat_strength)\n",
    "        hero.health_points -= damage\n",
    "        print(f\"Monster attacks Hero for {damage} damage! Hero HP: {hero.health_points}\")\n",
    "\n",
    "    def __del__(self):\n",
    "        super().__del__()\n",
    "        print(\"The Monster object is being destroyed by the garbage collector.\")"
   ]
  }
 ],
 "metadata": {
  "jupytext": {
   "cell_metadata_filter": "-all",
   "main_language": "python",
   "notebook_metadata_filter": "-all"
  }
 },
 "nbformat": 4,
 "nbformat_minor": 5
}
