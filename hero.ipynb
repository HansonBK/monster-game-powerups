{
 "cells": [
  {
   "cell_type": "code",
   "execution_count": null,
   "id": "1055ae97",
   "metadata": {
    "lines_to_next_cell": 1
   },
   "outputs": [],
   "source": [
    "from character import Character\n",
    "import random"
   ]
  },
  {
   "cell_type": "code",
   "execution_count": null,
   "id": "36b45b2d",
   "metadata": {},
   "outputs": [],
   "source": [
    "class Hero(Character):\n",
    "    def __init__(self):\n",
    "        super().__init__()\n",
    "\n",
    "    def hero_attacks(self, monster):\n",
    "        damage = random.randint(1, self.combat_strength)\n",
    "        monster.health_points -= damage\n",
    "        print(f\"Hero attacks Monster for {damage} damage! Monster HP: {monster.health_points}\")\n",
    "\n",
    "    def __del__(self):\n",
    "        super().__del__()\n",
    "        print(\"The Hero object is being destroyed by the garbage collector.\")"
   ]
  }
 ],
 "metadata": {
  "jupytext": {
   "cell_metadata_filter": "-all",
   "main_language": "python",
   "notebook_metadata_filter": "-all"
  }
 },
 "nbformat": 4,
 "nbformat_minor": 5
}
