{
 "cells": [
  {
   "cell_type": "code",
   "execution_count": null,
   "id": "a99ff48e",
   "metadata": {},
   "outputs": [],
   "source": [
    "import random\n",
    "import os\n",
    "import platform\n",
    "from hero import Hero\n",
    "from monster import Monster\n",
    "from functions import use_loot, save_game, load_game, adjust_combat_strength"
   ]
  },
  {
   "cell_type": "code",
   "execution_count": null,
   "id": "21612141",
   "metadata": {
    "lines_to_next_cell": 1
   },
   "outputs": [],
   "source": [
    "# Print system and Python version information\n",
    "print(f\"Operating System: {os.name}\")\n",
    "print(f\"Python Version: {platform.python_version()}\")"
   ]
  },
  {
   "cell_type": "code",
   "execution_count": null,
   "id": "8d571714",
   "metadata": {
    "lines_to_next_cell": 1
   },
   "outputs": [],
   "source": [
    "def validate_input():\n",
    "    while True:\n",
    "        try:\n",
    "            level = int(input(\"Enter dream level (0-3): \"))\n",
    "            if 0 <= level <= 3:\n",
    "                return level\n",
    "            else:\n",
    "                print(\"Invalid input. Please enter a number between 0 and 3.\")\n",
    "        except ValueError:\n",
    "            print(\"Invalid input. Please enter an integer between 0 and 3.\")"
   ]
  },
  {
   "cell_type": "code",
   "execution_count": null,
   "id": "4fff731c",
   "metadata": {
    "lines_to_next_cell": 1
   },
   "outputs": [],
   "source": [
    "def main():\n",
    "    hero = Hero()\n",
    "    monster = Monster()\n",
    "    belt = [\"Health Potion\", \"Poison Potion\"]\n",
    "\n",
    "    # Adjust combat strength based on previous games\n",
    "    adjust_combat_strength(hero, monster)\n",
    "\n",
    "    print(\"Battle begins!\")\n",
    "    belt = use_loot(belt, hero)\n",
    "\n",
    "    while hero.health_points > 0 and monster.health_points > 0:\n",
    "        hero.hero_attacks(monster)\n",
    "        if monster.health_points <= 0:\n",
    "            print(\"Monster defeated!\")\n",
    "            save_game(\"Hero\", \"Player\", 3)\n",
    "            break\n",
    "        monster.monster_attacks(hero)\n",
    "        if hero.health_points <= 0:\n",
    "            print(\"Hero defeated! Game over.\")\n",
    "            save_game(\"Monster\")\n",
    "            break\n",
    "\n",
    "    # Load and display past game data\n",
    "    with open(\"save.txt\", \"r\") as file:\n",
    "        lines = file.readlines()\n",
    "        print(f\"Total monsters killed: {len(lines)}\")"
   ]
  },
  {
   "cell_type": "code",
   "execution_count": null,
   "id": "d758c6f0",
   "metadata": {},
   "outputs": [],
   "source": [
    "if __name__ == \"__main__\":\n",
    "    validate_input()\n",
    "    main()"
   ]
  }
 ],
 "metadata": {
  "jupytext": {
   "cell_metadata_filter": "-all",
   "main_language": "python",
   "notebook_metadata_filter": "-all"
  }
 },
 "nbformat": 4,
 "nbformat_minor": 5
}
