{
 "cells": [
  {
   "cell_type": "code",
   "execution_count": null,
   "id": "33947282",
   "metadata": {
    "lines_to_next_cell": 1
   },
   "outputs": [],
   "source": [
    "import random"
   ]
  },
  {
   "cell_type": "code",
   "execution_count": null,
   "id": "817bf568",
   "metadata": {},
   "outputs": [],
   "source": [
    "class Character:\n",
    "    def __init__(self):\n",
    "        self._combat_strength = random.randint(1, 10)\n",
    "        self._health_points = random.randint(50, 100)\n",
    "    \n",
    "    @property\n",
    "    def combat_strength(self):\n",
    "        return self._combat_strength\n",
    "\n",
    "    @combat_strength.setter\n",
    "    def combat_strength(self, value):\n",
    "        if value < 0:\n",
    "            raise ValueError(\"Combat strength cannot be negative.\")\n",
    "        self._combat_strength = value\n",
    "\n",
    "    @property\n",
    "    def health_points(self):\n",
    "        return self._health_points\n",
    "\n",
    "    @health_points.setter\n",
    "    def health_points(self, value):\n",
    "        if value < 0:\n",
    "            self._health_points = 0  # Ensure health doesn't go negative\n",
    "        else:\n",
    "            self._health_points = value\n",
    "\n",
    "    def __del__(self):\n",
    "        print(\"Character object is being destroyed by the garbage collector.\")"
   ]
  }
 ],
 "metadata": {
  "jupytext": {
   "cell_metadata_filter": "-all",
   "main_language": "python",
   "notebook_metadata_filter": "-all"
  }
 },
 "nbformat": 4,
 "nbformat_minor": 5
}
