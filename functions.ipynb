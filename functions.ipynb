{
 "cells": [
  {
   "cell_type": "code",
   "execution_count": null,
   "id": "9e4d1a85",
   "metadata": {},
   "outputs": [],
   "source": [
    "import random\n",
    "import os\n",
    "import platform\n",
    "from hero import Hero\n",
    "from monster import Monster"
   ]
  },
  {
   "cell_type": "code",
   "execution_count": null,
   "id": "7c9f3cda",
   "metadata": {
    "lines_to_next_cell": 1
   },
   "outputs": [],
   "source": [
    "# Print system and Python version information\n",
    "print(f\"Operating System: {os.name}\")\n",
    "print(f\"Python Version: {platform.python_version()}\")"
   ]
  },
  {
   "cell_type": "code",
   "execution_count": null,
   "id": "046ce8d9",
   "metadata": {
    "lines_to_next_cell": 1
   },
   "outputs": [],
   "source": [
    "def validate_input():\n",
    "    while True:\n",
    "        try:\n",
    "            level = int(input(\"Enter dream level (0-3): \"))\n",
    "            if 0 <= level <= 3:\n",
    "                return level\n",
    "            else:\n",
    "                print(\"Invalid input. Please enter a number between 0 and 3.\")\n",
    "        except ValueError:\n",
    "            print(\"Invalid input. Please enter an integer between 0 and 3.\")"
   ]
  },
  {
   "cell_type": "code",
   "execution_count": null,
   "id": "0afb2210",
   "metadata": {
    "lines_to_next_cell": 1
   },
   "outputs": [],
   "source": [
    "def use_loot(belt, hero):\n",
    "    good_loot_options = [\"Health Potion\", \"Leather Boots\"]\n",
    "    bad_loot_options = [\"Poison Potion\"]\n",
    "    \n",
    "    print(\"    |    !!You see a monster in the distance! So you quickly use your first item:\")\n",
    "    first_item = belt.pop(0)\n",
    "    if first_item in good_loot_options:\n",
    "        hero.health_points = min(20, (hero.health_points + 2))\n",
    "        print(f\"    |    You used {first_item} to increase your health to {hero.health_points}\")\n",
    "    elif first_item in bad_loot_options:\n",
    "        hero.health_points = max(0, (hero.health_points - 2))\n",
    "        print(f\"    |    You used {first_item} and lost health to {hero.health_points}\")\n",
    "    else:\n",
    "        print(f\"    |    You used {first_item}, but it's not helpful.\")\n",
    "    return belt"
   ]
  },
  {
   "cell_type": "code",
   "execution_count": null,
   "id": "cf5bbdcd",
   "metadata": {
    "lines_to_next_cell": 1
   },
   "outputs": [],
   "source": [
    "def save_game(winner, hero_name=\"\", num_stars=0):\n",
    "    with open(\"save.txt\", \"a\") as file:\n",
    "        if winner == \"Hero\":\n",
    "            file.write(f\"Hero {hero_name} has killed a monster and gained {num_stars} stars.\\n\")\n",
    "        elif winner == \"Monster\":\n",
    "            file.write(\"Monster has killed the hero previously.\\n\")"
   ]
  },
  {
   "cell_type": "code",
   "execution_count": null,
   "id": "46afefea",
   "metadata": {
    "lines_to_next_cell": 1
   },
   "outputs": [],
   "source": [
    "def load_game():\n",
    "    try:\n",
    "        with open(\"save.txt\", \"r\") as file:\n",
    "            print(\"    |    Loading from saved file ...\")\n",
    "            lines = file.readlines()\n",
    "            if lines:\n",
    "                last_line = lines[-1].strip()\n",
    "                print(last_line)\n",
    "                return last_line\n",
    "    except FileNotFoundError:\n",
    "        print(\"No previous game found. Starting fresh.\")\n",
    "        return None"
   ]
  },
  {
   "cell_type": "code",
   "execution_count": null,
   "id": "276d4c15",
   "metadata": {},
   "outputs": [],
   "source": [
    "def adjust_combat_strength(hero, monster):\n",
    "    last_game = load_game()\n",
    "    if last_game:\n",
    "        if \"Hero\" in last_game and \"gained\" in last_game:\n",
    "            print(\"    |    ... Increasing the monster's combat strength since you won last time.\")\n",
    "            monster.combat_strength += 1\n",
    "        elif \"Monster has killed the hero\" in last_game:\n",
    "            hero.combat_strength += 1\n",
    "            print(\"    |    ... Increasing the hero's combat strength since you lost last time.\")"
   ]
  }
 ],
 "metadata": {
  "jupytext": {
   "cell_metadata_filter": "-all",
   "main_language": "python",
   "notebook_metadata_filter": "-all"
  }
 },
 "nbformat": 4,
 "nbformat_minor": 5
}
